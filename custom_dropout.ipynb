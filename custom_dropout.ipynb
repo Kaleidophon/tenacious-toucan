{
 "cells": [
  {
   "cell_type": "code",
   "execution_count": 1,
   "metadata": {},
   "outputs": [],
   "source": [
    "import torch\n",
    "import numpy\n",
    "from timeit import timeit"
   ]
  },
  {
   "cell_type": "code",
   "execution_count": 2,
   "metadata": {},
   "outputs": [],
   "source": [
    "class CustomDropout(torch.nn.Module):\n",
    "    def __init__(self, p):\n",
    "        super().__init__()\n",
    "        self.p = p\n",
    "        \n",
    "    def forward(self, input):\n",
    "        # Here we have to specify choice option probabilities\n",
    "        if self.p != 0.5:\n",
    "            mask = torch.from_numpy(numpy.random.choice([0, 1], size=input.shape, p=[self.p, 1 - self.p])).float()\n",
    "            \n",
    "        # This is default with equal chance for every option\n",
    "        else:\n",
    "            mask = torch.from_numpy(numpy.random.choice([0, 1], size=input.shape)).float()\n",
    "        return input * mask\n",
    "    \n",
    "class GaussianDropout(torch.nn.Module):\n",
    "    def __init__(self, p):\n",
    "        super(GaussianDropout, self).__init__()\n",
    "        self.alpha = torch.Tensor([p/(1-p)])\n",
    "        \n",
    "    def forward(self, x):\n",
    "        \"\"\"\n",
    "        Sample noise   e ~ N(1, alpha)\n",
    "        Multiply noise h = h_ * e\n",
    "        \"\"\"\n",
    "        if self.train():\n",
    "            # N(1, alpha)\n",
    "            epsilon = torch.randn(x.size()) * self.alpha + 1\n",
    "\n",
    "            #epsilon = Variable(epsilon)\n",
    "            if x.is_cuda:\n",
    "                epsilon = epsilon.cuda()\n",
    "\n",
    "            return x * epsilon\n",
    "        else:\n",
    "            return x"
   ]
  },
  {
   "cell_type": "code",
   "execution_count": 3,
   "metadata": {},
   "outputs": [],
   "source": [
    "p1 = 0.5\n",
    "test_tensor = torch.rand(10, 50000)\n",
    "std_dropout = torch.nn.Dropout(p1)\n",
    "custom_dropout = CustomDropout(p1)\n",
    "gaussian_dropout = GaussianDropout(p1)"
   ]
  },
  {
   "cell_type": "markdown",
   "metadata": {},
   "source": [
    "### *Dropout with p=0.5*\n",
    "\n",
    "(Fast for numpy's choice)\n"
   ]
  },
  {
   "cell_type": "code",
   "execution_count": 4,
   "metadata": {},
   "outputs": [
    {
     "data": {
      "text/plain": [
       "61.208337502999996"
      ]
     },
     "execution_count": 4,
     "metadata": {},
     "output_type": "execute_result"
    }
   ],
   "source": [
    "timeit(\n",
    "    \"std_dropout(test_tensor)\", setup=\"from __main__ import test_tensor, std_dropout\", number=10000\n",
    ")"
   ]
  },
  {
   "cell_type": "code",
   "execution_count": 5,
   "metadata": {},
   "outputs": [
    {
     "data": {
      "text/plain": [
       "41.747105727999994"
      ]
     },
     "execution_count": 5,
     "metadata": {},
     "output_type": "execute_result"
    }
   ],
   "source": [
    "timeit(\n",
    "    \"custom_dropout(test_tensor)\", setup=\"from __main__ import test_tensor, custom_dropout\", number=10000\n",
    ")"
   ]
  },
  {
   "cell_type": "code",
   "execution_count": 6,
   "metadata": {},
   "outputs": [
    {
     "data": {
      "text/plain": [
       "34.54468514899999"
      ]
     },
     "execution_count": 6,
     "metadata": {},
     "output_type": "execute_result"
    }
   ],
   "source": [
    "timeit(\n",
    "    \"gaussian_dropout(test_tensor)\", setup=\"from __main__ import test_tensor, gaussian_dropout\", number=10000\n",
    ")"
   ]
  },
  {
   "cell_type": "markdown",
   "metadata": {},
   "source": [
    "### *Dropout with other p*\n",
    "\n",
    "(No speed gains)"
   ]
  },
  {
   "cell_type": "code",
   "execution_count": 7,
   "metadata": {},
   "outputs": [],
   "source": [
    "p2 = 0.3\n",
    "test_tensor2 = torch.rand(10, 50000)\n",
    "std_dropout2 = torch.nn.Dropout(p2)\n",
    "custom_dropout2 = CustomDropout(p2)\n",
    "gaussian_dropout2 = GaussianDropout(p2)"
   ]
  },
  {
   "cell_type": "code",
   "execution_count": 8,
   "metadata": {},
   "outputs": [
    {
     "data": {
      "text/plain": [
       "60.47110804799999"
      ]
     },
     "execution_count": 8,
     "metadata": {},
     "output_type": "execute_result"
    }
   ],
   "source": [
    "timeit(\n",
    "    \"std_dropout2(test_tensor2)\", setup=\"from __main__ import test_tensor2, std_dropout2\", number=10000\n",
    ")"
   ]
  },
  {
   "cell_type": "code",
   "execution_count": 9,
   "metadata": {},
   "outputs": [
    {
     "data": {
      "text/plain": [
       "111.050683797"
      ]
     },
     "execution_count": 9,
     "metadata": {},
     "output_type": "execute_result"
    }
   ],
   "source": [
    "timeit(\n",
    "    \"custom_dropout2(test_tensor2)\", setup=\"from __main__ import test_tensor2, custom_dropout2\", number=10000\n",
    ")"
   ]
  },
  {
   "cell_type": "code",
   "execution_count": 10,
   "metadata": {},
   "outputs": [
    {
     "data": {
      "text/plain": [
       "36.710593152"
      ]
     },
     "execution_count": 10,
     "metadata": {},
     "output_type": "execute_result"
    }
   ],
   "source": [
    "timeit(\n",
    "    \"gaussian_dropout2(test_tensor2)\", setup=\"from __main__ import test_tensor2, gaussian_dropout2\", number=10000\n",
    ")"
   ]
  }
 ],
 "metadata": {
  "kernelspec": {
   "display_name": "Python 3",
   "language": "python",
   "name": "python3"
  },
  "language_info": {
   "codemirror_mode": {
    "name": "ipython",
    "version": 3
   },
   "file_extension": ".py",
   "mimetype": "text/x-python",
   "name": "python",
   "nbconvert_exporter": "python",
   "pygments_lexer": "ipython3",
   "version": "3.7.2"
  }
 },
 "nbformat": 4,
 "nbformat_minor": 2
}
