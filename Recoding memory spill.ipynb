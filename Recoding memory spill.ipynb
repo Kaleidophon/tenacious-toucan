{
 "cells": [
  {
   "cell_type": "code",
   "execution_count": 28,
   "metadata": {},
   "outputs": [
    {
     "name": "stdout",
     "output_type": "stream",
     "text": [
      "Add. mem allocated: 26072.00 MB\n",
      "Add. mem allocated: 26200.00 MB\n",
      "Add. mem allocated: 26184.00 MB\n",
      "Add. mem allocated: 26200.00 MB\n",
      "Add. mem allocated: 26228.00 MB\n"
     ]
    },
    {
     "ename": "KeyboardInterrupt",
     "evalue": "",
     "output_type": "error",
     "traceback": [
      "\u001b[0;31m---------------------------------------------------------------------------\u001b[0m",
      "\u001b[0;31mKeyboardInterrupt\u001b[0m                         Traceback (most recent call last)",
      "\u001b[0;32m<ipython-input-28-95bfbbdb95ff>\u001b[0m in \u001b[0;36m<module>\u001b[0;34m\u001b[0m\n\u001b[1;32m     45\u001b[0m \u001b[0;34m\u001b[0m\u001b[0m\n\u001b[1;32m     46\u001b[0m         \u001b[0;31m# \"Recoding\"\u001b[0m\u001b[0;34m\u001b[0m\u001b[0;34m\u001b[0m\u001b[0;34m\u001b[0m\u001b[0m\n\u001b[0;32m---> 47\u001b[0;31m         \u001b[0mdelta\u001b[0m \u001b[0;34m=\u001b[0m \u001b[0mh\u001b[0m \u001b[0;34m@\u001b[0m \u001b[0mR\u001b[0m\u001b[0;34m\u001b[0m\u001b[0;34m\u001b[0m\u001b[0m\n\u001b[0m\u001b[1;32m     48\u001b[0m         \u001b[0mbackward\u001b[0m\u001b[0;34m(\u001b[0m\u001b[0mdelta\u001b[0m\u001b[0;34m,\u001b[0m \u001b[0mgrad_tensors\u001b[0m\u001b[0;34m=\u001b[0m\u001b[0mtorch\u001b[0m\u001b[0;34m.\u001b[0m\u001b[0mones\u001b[0m\u001b[0;34m(\u001b[0m\u001b[0mdelta\u001b[0m\u001b[0;34m.\u001b[0m\u001b[0mshape\u001b[0m\u001b[0;34m)\u001b[0m\u001b[0;34m)\u001b[0m\u001b[0;34m\u001b[0m\u001b[0;34m\u001b[0m\u001b[0m\n\u001b[1;32m     49\u001b[0m         \u001b[0mh\u001b[0m \u001b[0;34m=\u001b[0m \u001b[0mh\u001b[0m \u001b[0;34m-\u001b[0m \u001b[0mstep\u001b[0m \u001b[0;34m*\u001b[0m \u001b[0mh\u001b[0m\u001b[0;34m.\u001b[0m\u001b[0mrecoding_grad\u001b[0m\u001b[0;34m\u001b[0m\u001b[0;34m\u001b[0m\u001b[0m\n",
      "\u001b[0;31mKeyboardInterrupt\u001b[0m: "
     ]
    }
   ],
   "source": [
    "# Simplified example\n",
    "\n",
    "import gc\n",
    "import resource\n",
    "import torch\n",
    "from torch.autograd import Variable, backward\n",
    "from torch.optim import SGD\n",
    "\n",
    "i = 0  # Iterations\n",
    "T = 5  # Time steps\n",
    "b = 3  # Batch size\n",
    "step = 0.5\n",
    "h = torch.rand(b, 10)\n",
    "W = Variable(torch.randn(10, 10), requires_grad=True)\n",
    "R = Variable(torch.randn(10, 10), requires_grad=True)\n",
    "O = Variable(torch.randn(10, 10), requires_grad=True)\n",
    "\n",
    "def register_grad_hook(var):\n",
    "    def hook(grad):\n",
    "        var.recoding_grad = grad\n",
    "\n",
    "    var.register_hook(hook)\n",
    "    \n",
    "def get_mem():\n",
    "    gc.collect()\n",
    "    return resource.getrusage(resource.RUSAGE_SELF).ru_maxrss / 1024\n",
    "\n",
    "#optim = SGD(params=[W, R, O], lr=0.1)\n",
    "prev_mem_used = get_mem()\n",
    "\n",
    "while True:\n",
    "    \n",
    "    for t in range(T):\n",
    "        # Dummy \"RNN\" logic\n",
    "        # Placing this line here causes the memory spill\n",
    "        h = Variable(h, requires_grad=True)\n",
    "        h = h @ W  # Apply \"RNN\"\n",
    "        \n",
    "        # Placing this line here results in (almost) no new memory being \n",
    "        # allocated\n",
    "        # But this doesn't make sense - we need to record operations that\n",
    "        # happen during the RNN logic\n",
    "        #h = Variable(h.data, requires_grad=True)\n",
    "        register_grad_hook(h)\n",
    "\n",
    "        # \"Recoding\"\n",
    "        delta = h @ R\n",
    "        backward(delta, grad_tensors=torch.ones(delta.shape))\n",
    "        h = h - step * h.recoding_grad\n",
    "        # Detach so recoding gradients only depend on stuff happening at\n",
    "        # the current time step\n",
    "        h = h.detach()\n",
    "        \n",
    "    # Main backward pass\n",
    "    out = h @ O  # Predict \"output\"\n",
    "    loss = out.sum()\n",
    "    #print(\"Loss: \", loss)\n",
    "    loss.backward()\n",
    "    #optim.step()\n",
    "    #optim.zero_grad()\n",
    "    \n",
    "    i += 1\n",
    "\n",
    "    if i % 1000 == 0:\n",
    "        current_mem_used = get_mem()\n",
    "        print(\"Add. mem allocated: {:.2f} MB\".format(current_mem_used - prev_mem_used))\n",
    "        prev_mem_used = current_mem_used"
   ]
  },
  {
   "cell_type": "code",
   "execution_count": null,
   "metadata": {},
   "outputs": [],
   "source": []
  }
 ],
 "metadata": {
  "kernelspec": {
   "display_name": "Python 3",
   "language": "python",
   "name": "python3"
  }
 },
 "nbformat": 4,
 "nbformat_minor": 2
}
