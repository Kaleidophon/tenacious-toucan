{
 "cells": [
  {
   "cell_type": "code",
   "execution_count": 1,
   "metadata": {},
   "outputs": [],
   "source": [
    "import gc\n",
    "import resource\n",
    "import torch\n",
    "from torch.autograd import Variable, backward\n",
    "from torch.optim import SGD\n",
    "import time\n",
    "\n",
    "def register_grad_hook(var):\n",
    "    def hook(grad):\n",
    "        var.recoding_grad = grad\n",
    "\n",
    "    var.register_hook(hook)\n",
    "    \n",
    "def get_mem():\n",
    "    gc.collect()\n",
    "    return resource.getrusage(resource.RUSAGE_SELF).ru_maxrss / 1024"
   ]
  },
  {
   "cell_type": "code",
   "execution_count": 2,
   "metadata": {},
   "outputs": [],
   "source": [
    "BREAK = 10  # End after this many iterations\n",
    "T = 10  # Time steps\n",
    "b = 10  # Batch size\n",
    "step = 0.5\n",
    "in_init = torch.rand(b, 10)\n",
    "h_init = torch.rand(b, 10)\n",
    "I_init = Variable(torch.randn(10, 10), requires_grad=True)\n",
    "W_init = Variable(torch.randn(10, 10), requires_grad=True)\n",
    "R_init = Variable(torch.randn(10, 10), requires_grad=True)\n",
    "O_init = Variable(torch.randn(10, 10), requires_grad=True)"
   ]
  },
  {
   "cell_type": "code",
   "execution_count": 3,
   "metadata": {},
   "outputs": [
    {
     "name": "stdout",
     "output_type": "stream",
     "text": [
      "Add. mem allocated: + 612.00 KB\n",
      "Add. mem allocated: + 16.00 KB\n",
      "Add. mem allocated: + 4.00 KB\n",
      "Add. mem allocated: + 0.00 KB\n",
      "Add. mem allocated: + 0.00 KB\n",
      "Add. mem allocated: + 0.00 KB\n",
      "Add. mem allocated: + 0.00 KB\n",
      "Add. mem allocated: + 0.00 KB\n",
      "Add. mem allocated: + 0.00 KB\n",
      "Add. mem allocated: + 0.00 KB\n"
     ]
    }
   ],
   "source": [
    "# +++ Old version +++\n",
    "# Use an actual optimizer to perform the recoding gradient step\n",
    "\n",
    "h, in_ = h_init.clone(), in_init.clone()\n",
    "W, R, O, I = W_init.clone(), R_init.clone(), O_init.clone(), I_init.clone()\n",
    "prev_mem_used = get_mem()\n",
    "old_gradients = []\n",
    "i = 0\n",
    "\n",
    "while True:\n",
    "    \n",
    "    for t in range(T):\n",
    "        h = Variable(h, requires_grad=True)\n",
    "        optim_h = SGD([h], lr=step)\n",
    "        optim_h.zero_grad()\n",
    "        \n",
    "        h = (in_ @ I) * h\n",
    "        h_prime = h @ W  # Apply \"RNN\"\n",
    "\n",
    "        # \"Recoding\"\n",
    "        delta = h_prime @ R\n",
    "        backward(delta, grad_tensors=torch.ones(delta.shape))\n",
    "        old_gradients.append(h.grad)\n",
    "        optim_h.step()\n",
    "\n",
    "        # Detach so recoding gradients only depend on stuff happening at\n",
    "        # the current time step\n",
    "        h = h.detach()\n",
    "        \n",
    "    # Main backward pass\n",
    "    out = h @ O  # Predict \"output\"\n",
    "    loss = out.sum()\n",
    "    loss.backward()\n",
    "    \n",
    "    i += 1\n",
    "\n",
    "    current_mem_used = get_mem()\n",
    "    print(\"Add. mem allocated: + {:.2f} KB\".format(current_mem_used - prev_mem_used))\n",
    "    prev_mem_used = current_mem_used\n",
    "\n",
    "    if i >= BREAK:\n",
    "        break"
   ]
  },
  {
   "cell_type": "code",
   "execution_count": 7,
   "metadata": {},
   "outputs": [
    {
     "name": "stdout",
     "output_type": "stream",
     "text": [
      "Add. mem allocated: +0.00 KB\n",
      "Add. mem allocated: +0.00 KB\n",
      "Add. mem allocated: +0.00 KB\n",
      "Add. mem allocated: +8.00 KB\n",
      "Add. mem allocated: +8.00 KB\n",
      "Add. mem allocated: +8.00 KB\n",
      "Add. mem allocated: +12.00 KB\n",
      "Add. mem allocated: +16.00 KB\n",
      "Add. mem allocated: +12.00 KB\n",
      "Add. mem allocated: +8.00 KB\n"
     ]
    }
   ],
   "source": [
    "# +++ New Version after refactoring +++\n",
    "# Use gradient hook to assign gradient to special attribute\n",
    "# Perform update step manually\n",
    "# Cleaner but memory spill\n",
    "\n",
    "h, in_ = h_init.clone(), in_init.clone()\n",
    "W, R, O, I = W_init.clone(), R_init.clone(), O_init.clone(), I_init.clone()\n",
    "prev_mem_used = get_mem()\n",
    "faulty_gradients = []\n",
    "i = 0\n",
    "\n",
    "while True:\n",
    "    \n",
    "    for t in range(T):\n",
    "        # Dummy \"RNN\" logic\n",
    "        # Placing this line here causes the memory spill\n",
    "        h = Variable(h, requires_grad=True)\n",
    "        hin = in_ @ I * h\n",
    "        hprime = hin @ W  # Apply \"RNN\"\n",
    "\n",
    "        # \"Recoding\"\n",
    "        delta = hprime @ R\n",
    "        register_grad_hook(h)\n",
    "        backward(delta, grad_tensors=torch.ones(delta.shape))\n",
    "        faulty_gradients.append(h.recoding_grad)\n",
    "        h = h - step * h.recoding_grad  # Manual update step\n",
    "        \n",
    "        # Detach so recoding gradients only depend on stuff happening at\n",
    "        # the current time step\n",
    "        #h = h.detach()\n",
    "        \n",
    "    # Main backward pass\n",
    "    out = h @ O  # Predict \"output\"\n",
    "    loss = out.sum()\n",
    "    loss.backward()\n",
    "    \n",
    "    i += 1\n",
    "\n",
    "    current_mem_used = get_mem()\n",
    "    print(\"Add. mem allocated: +{:.2f} KB\".format(current_mem_used - prev_mem_used))\n",
    "    prev_mem_used = current_mem_used\n",
    "        \n",
    "    if i >= BREAK:\n",
    "        break"
   ]
  },
  {
   "cell_type": "code",
   "execution_count": 5,
   "metadata": {},
   "outputs": [
    {
     "name": "stdout",
     "output_type": "stream",
     "text": [
      "Add. mem allocated: +12.00 KB\n",
      "Add. mem allocated: +8.00 KB\n",
      "Add. mem allocated: +4.00 KB\n",
      "Add. mem allocated: +16.00 KB\n",
      "Add. mem allocated: +4.00 KB\n",
      "Add. mem allocated: +16.00 KB\n",
      "Add. mem allocated: +0.00 KB\n",
      "Add. mem allocated: +16.00 KB\n",
      "Add. mem allocated: +12.00 KB\n",
      "Add. mem allocated: +24.00 KB\n"
     ]
    }
   ],
   "source": [
    "# So what was the difference here? We assigned h = h @ W to the same \n",
    "# variable, somehow messing up the computational graph and creating a \n",
    "# memory spill (the code still runs but produces faulty gradients and at\n",
    "# some point an OOM exception).\n",
    "# If we did this with the old version, hidden.grad would simply by None.\n",
    "\n",
    "h = h_init.clone()\n",
    "W, R, O = W_init.clone(), R_init.clone(), O_init.clone()\n",
    "prev_mem_used = get_mem()\n",
    "new_gradients = []\n",
    "i = 0\n",
    "\n",
    "while True:\n",
    "    \n",
    "    for t in range(T):\n",
    "        # Dummy \"RNN\" logic\n",
    "        # Placing this line here causes the memory spill\n",
    "        h = Variable(h, requires_grad=True)\n",
    "        \n",
    "        # +++ Only difference! Call this new car h_prime\n",
    "        # and don't reassign to h +++\n",
    "        h_prime = h @ W  # Apply \"RNN\"\n",
    "\n",
    "        # \"Recoding\"\n",
    "        delta = h_prime @ R\n",
    "        register_grad_hook(h)\n",
    "        backward(delta, grad_tensors=torch.ones(delta.shape))\n",
    "        new_gradients.append(h.recoding_grad)\n",
    "        h = h - step * h.recoding_grad  # Manual update step\n",
    "        \n",
    "        # Detach so recoding gradients only depend on stuff happening at\n",
    "        # the current time step\n",
    "        h = h.detach()\n",
    "        \n",
    "    # Main backward pass\n",
    "    out = h @ O  # Predict \"output\"\n",
    "    loss = out.sum()\n",
    "    loss.backward()\n",
    "    \n",
    "    i += 1\n",
    "\n",
    "    current_mem_used = get_mem()\n",
    "    print(\"Add. mem allocated: +{:.2f} KB\".format(current_mem_used - prev_mem_used))\n",
    "    prev_mem_used = current_mem_used\n",
    "        \n",
    "    if i >= BREAK:\n",
    "        break"
   ]
  },
  {
   "cell_type": "code",
   "execution_count": 6,
   "metadata": {},
   "outputs": [
    {
     "ename": "TypeError",
     "evalue": "expected Tensor as element 0 in argument 0, but got NoneType",
     "output_type": "error",
     "traceback": [
      "\u001b[0;31m---------------------------------------------------------------------------\u001b[0m",
      "\u001b[0;31mTypeError\u001b[0m                                 Traceback (most recent call last)",
      "\u001b[0;32m<ipython-input-6-7e94319d4c09>\u001b[0m in \u001b[0;36m<module>\u001b[0;34m\u001b[0m\n\u001b[1;32m      1\u001b[0m \u001b[0;31m# Test whether gradients are the same\u001b[0m\u001b[0;34m\u001b[0m\u001b[0;34m\u001b[0m\u001b[0;34m\u001b[0m\u001b[0m\n\u001b[0;32m----> 2\u001b[0;31m \u001b[0mstacked_old\u001b[0m \u001b[0;34m=\u001b[0m \u001b[0mtorch\u001b[0m\u001b[0;34m.\u001b[0m\u001b[0mstack\u001b[0m\u001b[0;34m(\u001b[0m\u001b[0mold_gradients\u001b[0m\u001b[0;34m)\u001b[0m\u001b[0;34m\u001b[0m\u001b[0;34m\u001b[0m\u001b[0m\n\u001b[0m\u001b[1;32m      3\u001b[0m \u001b[0mstacked_new\u001b[0m \u001b[0;34m=\u001b[0m \u001b[0mtorch\u001b[0m\u001b[0;34m.\u001b[0m\u001b[0mstack\u001b[0m\u001b[0;34m(\u001b[0m\u001b[0mnew_gradients\u001b[0m\u001b[0;34m)\u001b[0m\u001b[0;34m\u001b[0m\u001b[0;34m\u001b[0m\u001b[0m\n\u001b[1;32m      4\u001b[0m \u001b[0mstacked_faulty\u001b[0m \u001b[0;34m=\u001b[0m \u001b[0mtorch\u001b[0m\u001b[0;34m.\u001b[0m\u001b[0mstack\u001b[0m\u001b[0;34m(\u001b[0m\u001b[0mfaulty_gradients\u001b[0m\u001b[0;34m)\u001b[0m\u001b[0;34m\u001b[0m\u001b[0;34m\u001b[0m\u001b[0m\n\u001b[1;32m      5\u001b[0m \u001b[0mprint\u001b[0m\u001b[0;34m(\u001b[0m\u001b[0;34m\"Diff old - faulty: \"\u001b[0m\u001b[0;34m,\u001b[0m \u001b[0;34m(\u001b[0m\u001b[0;34m(\u001b[0m\u001b[0mstacked_old\u001b[0m \u001b[0;34m-\u001b[0m \u001b[0mstacked_faulty\u001b[0m\u001b[0;34m)\u001b[0m \u001b[0;34m**\u001b[0m \u001b[0;36m2\u001b[0m\u001b[0;34m)\u001b[0m\u001b[0;34m.\u001b[0m\u001b[0msum\u001b[0m\u001b[0;34m(\u001b[0m\u001b[0;34m)\u001b[0m\u001b[0;34m.\u001b[0m\u001b[0mitem\u001b[0m\u001b[0;34m(\u001b[0m\u001b[0;34m)\u001b[0m\u001b[0;34m)\u001b[0m\u001b[0;34m\u001b[0m\u001b[0;34m\u001b[0m\u001b[0m\n",
      "\u001b[0;31mTypeError\u001b[0m: expected Tensor as element 0 in argument 0, but got NoneType"
     ]
    }
   ],
   "source": [
    "# Test whether gradients are the same\n",
    "stacked_old = torch.stack(old_gradients)\n",
    "stacked_new = torch.stack(new_gradients)\n",
    "stacked_faulty = torch.stack(faulty_gradients)\n",
    "print(\"Diff old - faulty: \", ((stacked_old - stacked_faulty) ** 2).sum().item())\n",
    "print(\"Diff old - new: \", ((stacked_old - stacked_new) ** 2).sum().item())"
   ]
  },
  {
   "cell_type": "code",
   "execution_count": null,
   "metadata": {},
   "outputs": [],
   "source": []
  },
  {
   "cell_type": "code",
   "execution_count": null,
   "metadata": {},
   "outputs": [],
   "source": []
  }
 ],
 "metadata": {
  "kernelspec": {
   "display_name": "Python 3",
   "language": "python",
   "name": "python3"
  },
  "language_info": {
   "codemirror_mode": {
    "name": "ipython",
    "version": 3
   },
   "file_extension": ".py",
   "mimetype": "text/x-python",
   "name": "python",
   "nbconvert_exporter": "python",
   "pygments_lexer": "ipython3",
   "version": "3.7.2"
  }
 },
 "nbformat": 4,
 "nbformat_minor": 2
}
